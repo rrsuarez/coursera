{
 "cells": [
  {
   "cell_type": "markdown",
   "id": "222a3ea3-2f40-4ffd-b311-ac20f51dacca",
   "metadata": {},
   "source": [
    "# (Data Science Tools and Ecosystem)"
   ]
  },
  {
   "cell_type": "markdown",
   "id": "a05494fb-bae1-4f45-9e81-ffae41bc7dda",
   "metadata": {},
   "source": [
    "In this notebook, Data Science Tools and Ecosystem are summarized."
   ]
  },
  {
   "cell_type": "markdown",
   "id": "75d06f50-cd55-40f9-b46d-8baedf8b8a62",
   "metadata": {},
   "source": [
    "Some of the popular languages that Data Scientists use are:"
   ]
  },
  {
   "cell_type": "markdown",
   "id": "57651581-9535-4602-b308-bd8e4519a675",
   "metadata": {},
   "source": [
    "<ol>\n",
    "  <li><p>Python.</p></li>\n",
    "  <li><p>R.</p></li>\n",
    "  <li><p>SQL.</p></li>\n",
    "  <li><p>Java.</p></li>\n",
    "    <li><p>Scala.</p></li>\n",
    "</ol>"
   ]
  },
  {
   "cell_type": "markdown",
   "id": "aa852895-6f74-4390-b129-0edb26d0a7af",
   "metadata": {},
   "source": [
    "Some of the commonly used libraries used by Data Scientists include:"
   ]
  },
  {
   "cell_type": "markdown",
   "id": "dafdb47e-589c-46cf-b1a8-3acbf18d27a7",
   "metadata": {},
   "source": [
    "<ol>\n",
    "  <li><p>Scikit-learn.</p></li>\n",
    "  <li><p>Numpy.</p></li>\n",
    "  <li><p>Pandas.</p></li>\n",
    "  <li><p>Plotly.</p></li>\n",
    "</ol>"
   ]
  },
  {
   "cell_type": "markdown",
   "id": "0ff95fe4-8ff2-4afa-9a04-cf21c2b4f9f1",
   "metadata": {},
   "source": [
    "| Data Science Tools|\n",
    "|:--------:|\n",
    "|  Apache SparkSQL  |\n",
    "|  TensorFlow   |\n",
    "|  MongoDB   |"
   ]
  },
  {
   "cell_type": "markdown",
   "id": "dcf38ea8-18ee-4995-a1c7-80db42cd2ce6",
   "metadata": {},
   "source": [
    "### Below are a few examples of evaluating arithmetic expressions in Python"
   ]
  },
  {
   "cell_type": "code",
   "execution_count": 16,
   "id": "77da71a5-8a3b-46a3-9c4b-6b15d6567846",
   "metadata": {},
   "outputs": [
    {
     "data": {
      "text/plain": [
       "17"
      ]
     },
     "execution_count": 16,
     "metadata": {},
     "output_type": "execute_result"
    }
   ],
   "source": [
    "## This a simple arithmetic expression to mutiply then add integers\n",
    "(3*4)+5"
   ]
  },
  {
   "cell_type": "code",
   "execution_count": 18,
   "id": "b645e814-5248-42b1-8223-6ef8c2199159",
   "metadata": {},
   "outputs": [
    {
     "data": {
      "text/plain": [
       "3.3333333333333335"
      ]
     },
     "execution_count": 18,
     "metadata": {},
     "output_type": "execute_result"
    }
   ],
   "source": [
    "## This will convert 200 minutes to hours by diving by 60\n",
    "200/60"
   ]
  },
  {
   "cell_type": "markdown",
   "id": "2e5a204b-d467-4834-be15-c2b74de7662e",
   "metadata": {},
   "source": [
    "**Objectives:** \n",
    "<li><p>Python.</p></li>\n",
    "<li><p>R.</p></li>\n",
    "<li><p>SQL.</p></li>"
   ]
  },
  {
   "cell_type": "markdown",
   "id": "8915f46e-2f5e-4168-ac8e-1e1703f9197a",
   "metadata": {},
   "source": [
    "## Author"
   ]
  },
  {
   "cell_type": "markdown",
   "id": "21291393-559a-4560-9444-8a0f4976feb9",
   "metadata": {},
   "source": [
    "Ricardo Rodriguez Suarez"
   ]
  },
  {
   "cell_type": "code",
   "execution_count": null,
   "id": "f22f8bc1-56c5-48f6-b7b8-bbd0bd5279e5",
   "metadata": {},
   "outputs": [],
   "source": []
  }
 ],
 "metadata": {
  "kernelspec": {
   "display_name": "Python 3 (ipykernel)",
   "language": "python",
   "name": "python3"
  },
  "language_info": {
   "codemirror_mode": {
    "name": "ipython",
    "version": 3
   },
   "file_extension": ".py",
   "mimetype": "text/x-python",
   "name": "python",
   "nbconvert_exporter": "python",
   "pygments_lexer": "ipython3",
   "version": "3.12.4"
  }
 },
 "nbformat": 4,
 "nbformat_minor": 5
}
